{
 "cells": [
  {
   "cell_type": "code",
   "execution_count": 1,
   "metadata": {},
   "outputs": [],
   "source": [
    "from src.contracts import *"
   ]
  },
  {
   "attachments": {},
   "cell_type": "markdown",
   "metadata": {},
   "source": [
    "Consider a contract for bounding a battery charging behavior where `soc*` variables represent the battery state-of-charge, `t*` variables represent time, `duration*` represents the duration of the contract between `t*_entry` and `t*_exit`. The `s` index allwos for creating distinct copies of this contract for modeling distinct occurrences."
   ]
  },
  {
   "cell_type": "code",
   "execution_count": 2,
   "metadata": {},
   "outputs": [
    {
     "name": "stdout",
     "output_type": "stream",
     "text": [
      "c1:\n",
      "InVars: [t1_entry, t1_var, duration1, soc1_entry]\n",
      "OutVars:[t1_exit, soc1_var, soc1_exit]\n",
      "A: [\n",
      "  -duration1 <= -0\n",
      "  -t1_entry <= -0\n",
      "  t1_entry - t1_var <= 0\n",
      "]\n",
      "G: [\n",
      "  -soc1_entry <= 0\n",
      "  0.8 duration1 + soc1_entry <= 100\n",
      "  duration1 + t1_entry - t1_exit = 0\n",
      "  0.5 duration1 + soc1_entry - soc1_exit <= 0\n",
      "  -0.8 duration1 - soc1_entry + soc1_exit <= 0\n",
      "  soc1_entry - soc1_var - 0.5 t1_entry + 0.5 t1_var <= 0\n",
      "  -soc1_entry + soc1_var + 0.8 t1_entry - 0.8 t1_var <= 0\n",
      "  -t1_exit + t1_var <= 0\n",
      "  -soc1_exit + soc1_var <= 0\n",
      "]\n"
     ]
    }
   ],
   "source": [
    "c1: PolyhedralContract = charging(s=1, generation=[0.5, 0.8])\n",
    "print(f\"c1:\\n{c1}\")"
   ]
  },
  {
   "attachments": {},
   "cell_type": "markdown",
   "metadata": {},
   "source": [
    "To use a contract for simulation purposes, we need to extract its `PolyhedralTermList`: the list of all assumptions and guarantees constraints."
   ]
  },
  {
   "cell_type": "code",
   "execution_count": 3,
   "metadata": {},
   "outputs": [
    {
     "name": "stdout",
     "output_type": "stream",
     "text": [
      "constraints:\n",
      "[\n",
      "  -duration1 <= -0\n",
      "  -t1_entry <= -0\n",
      "  t1_entry - t1_var <= 0\n",
      "  -soc1_entry <= 0\n",
      "  0.8 duration1 + soc1_entry <= 100\n",
      "  duration1 + t1_entry - t1_exit = 0\n",
      "  0.5 duration1 + soc1_entry - soc1_exit <= 0\n",
      "  -0.8 duration1 - soc1_entry + soc1_exit <= 0\n",
      "  soc1_entry - soc1_var - 0.5 t1_entry + 0.5 t1_var <= 0\n",
      "  -soc1_entry + soc1_var + 0.8 t1_entry - 0.8 t1_var <= 0\n",
      "  -t1_exit + t1_var <= 0\n",
      "  -soc1_exit + soc1_var <= 0\n",
      "]\n"
     ]
    }
   ],
   "source": [
    "constraints: PolyhedralTermList = c1.a | c1.g\n",
    "print(f\"constraints:\\n{constraints}\")"
   ]
  },
  {
   "attachments": {},
   "cell_type": "markdown",
   "metadata": {},
   "source": [
    "We can refine this list of constraints in a particular context of values for the exogeneous variables; which is a subset of the contract's input variables."
   ]
  },
  {
   "cell_type": "code",
   "execution_count": 7,
   "metadata": {},
   "outputs": [
    {
     "name": "stdout",
     "output_type": "stream",
     "text": [
      "ce:\n",
      "[\n",
      "  -t1_exit = -10\n",
      "  -soc1_exit <= -55\n",
      "  soc1_exit <= 58\n",
      "  -soc1_var + 0.5 t1_var <= -50\n",
      "  soc1_var - 0.8 t1_var <= 50\n",
      "  -t1_exit + t1_var <= 0\n",
      "  -soc1_exit + soc1_var <= 0\n",
      "]\n"
     ]
    }
   ],
   "source": [
    "ce: PolyhedralTermList = constraints.evaluate({\n",
    "    Var(\"duration1\"): 10.0,\n",
    "    Var(\"t1_entry\"): 0,\n",
    "    Var(\"soc1_entry\"): 50.0,\n",
    "}).simplify()\n",
    "print(f\"ce:\\n{ce}\")"
   ]
  },
  {
   "attachments": {},
   "cell_type": "markdown",
   "metadata": {},
   "source": [
    "With these refined constraints, we can compute bounds for the simulation input, `t1_var`, and output, `soc1_var`."
   ]
  },
  {
   "cell_type": "code",
   "execution_count": 8,
   "metadata": {},
   "outputs": [
    {
     "name": "stdout",
     "output_type": "stream",
     "text": [
      "t1_var:[0.0,10.0]\n",
      "soc1_var (ce) :[50.0,58.0]\n"
     ]
    }
   ],
   "source": [
    "t_var_min, t_var_max = get_bounds(ce, \"t1_var\")\n",
    "print(f\"t1_var:[{t_var_min},{t_var_max}]\")\n",
    "\n",
    "soc1_var_min, soc1_var_max = get_bounds(ce, \"soc1_var\")\n",
    "print(f\"soc1_var (ce) :[{soc1_var_min},{soc1_var_max}]\")"
   ]
  },
  {
   "attachments": {},
   "cell_type": "markdown",
   "metadata": {},
   "source": [
    "We can evaluate the refined constraints for a specific value of the simulation input, `t1_var`, to get bounds on the simulation output, `soc1_var`."
   ]
  },
  {
   "cell_type": "code",
   "execution_count": 9,
   "metadata": {},
   "outputs": [
    {
     "name": "stdout",
     "output_type": "stream",
     "text": [
      "ce1:\n",
      "[\n",
      "  -t1_exit = -10\n",
      "  -soc1_exit <= -55\n",
      "  soc1_exit <= 58\n",
      "  -soc1_var <= -51\n",
      "  soc1_var <= 51.6\n",
      "]\n",
      "soc1_var (ce1):[51.0,51.6]\n"
     ]
    }
   ],
   "source": [
    "ce1: PolyhedralTermList = ce.evaluate({Var(\"t1_var\"): 2.0}).simplify()\n",
    "print(f\"ce1:\\n{ce1}\")\n",
    "soc1_var_min, soc1_var_max = get_bounds(ce1, \"soc1_var\")\n",
    "print(f\"soc1_var (ce1):[{soc1_var_min},{soc1_var_max}]\")"
   ]
  }
 ],
 "metadata": {
  "kernelspec": {
   "display_name": ".venv",
   "language": "python",
   "name": "python3"
  },
  "language_info": {
   "codemirror_mode": {
    "name": "ipython",
    "version": 3
   },
   "file_extension": ".py",
   "mimetype": "text/x-python",
   "name": "python",
   "nbconvert_exporter": "python",
   "pygments_lexer": "ipython3",
   "version": "3.11.2"
  },
  "orig_nbformat": 4
 },
 "nbformat": 4,
 "nbformat_minor": 2
}
